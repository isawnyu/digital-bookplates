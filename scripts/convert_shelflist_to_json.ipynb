{
 "cells": [
  {
   "cell_type": "code",
   "execution_count": 1,
   "metadata": {},
   "outputs": [],
   "source": [
    "# Imports\n",
    "\n",
    "import pandas as pd\n",
    "\n",
    "from collections import Counter\n",
    "from pprint import pprint\n",
    "\n",
    "import pickle"
   ]
  },
  {
   "cell_type": "code",
   "execution_count": 2,
   "metadata": {},
   "outputs": [],
   "source": [
    "# Pandas expects this file to be encoded as UTF-8 (and possibily to have Unix (LF)-style line breaks. Open csv in Textwrangler vel sim and change this is read_csv generates an error.\n",
    "\n",
    "df = pd.read_csv('../app/static/data/shelflist.csv')"
   ]
  },
  {
   "cell_type": "code",
   "execution_count": 3,
   "metadata": {},
   "outputs": [],
   "source": [
    "# Keep only needed columns\n",
    "\n",
    "df = df[['BSN','Z13_AUTHOR', 'Z13_TITLE', 'Z13_IMPRINT', 'Z30_NOTE_INTERNAL']]"
   ]
  },
  {
   "cell_type": "code",
   "execution_count": 4,
   "metadata": {},
   "outputs": [],
   "source": [
    "# Rename columns\n",
    "\n",
    "df = df.rename(columns={'BSN': 'bsn', \n",
    "                        'Z13_AUTHOR': 'author', \n",
    "                        'Z13_TITLE': 'title', \n",
    "                        'Z13_IMPRINT': 'imprint', \n",
    "                        'Z30_NOTE_INTERNAL': 'collection'\n",
    "                       }\n",
    "              )"
   ]
  },
  {
   "cell_type": "code",
   "execution_count": 5,
   "metadata": {},
   "outputs": [],
   "source": [
    "# Drop rows without collection info\n",
    "\n",
    "df = df.dropna(subset=['collection'])"
   ]
  },
  {
   "cell_type": "code",
   "execution_count": 6,
   "metadata": {},
   "outputs": [],
   "source": [
    "# Helper function to normalize collection data\n",
    "\n",
    "def clean_collection(string):\n",
    "    cleaned = string\n",
    "    \n",
    "    # Remove punctuation with translate\n",
    "    punctuation =\"\\\"#$%&\\'()+,-/:;<=>@[\\]^_`{|}~.?!«»—\"\n",
    "    translator = str.maketrans({key: \" \" for key in punctuation})\n",
    "    cleaned = cleaned.translate(translator)\n",
    "    \n",
    "    cleaned = cleaned.replace('Collection', '')\n",
    "    \n",
    "    return cleaned.strip()"
   ]
  },
  {
   "cell_type": "code",
   "execution_count": 7,
   "metadata": {},
   "outputs": [],
   "source": [
    "# Clean collection column\n",
    "\n",
    "df['collection'] = df['collection'].apply(lambda x: clean_collection(x))"
   ]
  },
  {
   "cell_type": "code",
   "execution_count": 8,
   "metadata": {},
   "outputs": [],
   "source": [
    "# Helper function to normalize bsns\n",
    "\n",
    "def normalize_bsn(bsn):\n",
    "    bsn = str(bsn)\n",
    "    if len(bsn) < 9:\n",
    "        bsn = \"0\" * (9-len(bsn)) + bsn\n",
    "    return bsn"
   ]
  },
  {
   "cell_type": "code",
   "execution_count": 9,
   "metadata": {},
   "outputs": [],
   "source": [
    "# Fix bsn length\n",
    "\n",
    "df['bsn'] = df['bsn'].apply(lambda x: normalize_bsn(x))"
   ]
  },
  {
   "cell_type": "code",
   "execution_count": 10,
   "metadata": {},
   "outputs": [],
   "source": [
    "# Get featured bsns\n",
    "\n",
    "with open('../app/static/data/featured.txt') as f:\n",
    "    featured_bsns = f.read().splitlines()"
   ]
  },
  {
   "cell_type": "code",
   "execution_count": 11,
   "metadata": {},
   "outputs": [],
   "source": [
    "# Helper function for add featured bsns\n",
    "\n",
    "def add_featured(bsn):\n",
    "    if bsn in featured_bsns:\n",
    "        return 1\n",
    "    else:\n",
    "        return 0"
   ]
  },
  {
   "cell_type": "code",
   "execution_count": 12,
   "metadata": {},
   "outputs": [],
   "source": [
    "df['featured'] = df['bsn'].apply(lambda x: add_featured(x))"
   ]
  },
  {
   "cell_type": "code",
   "execution_count": 13,
   "metadata": {},
   "outputs": [],
   "source": [
    "# Get eligible DBP collections\n",
    "\n",
    "min_threshold = 100\n",
    "excluded_categories = ['Mesopotamian', 'Bobst transfer', \"LP\", \"Persian\"]\n",
    "\n",
    "dbp_elig = Counter(df['collection'])\n",
    "dbp_elig = {x : dbp_elig[x] for x in dbp_elig if dbp_elig[x] >= min_threshold and x not in excluded_categories}\n",
    "dpb_elig = list(dbp_elig.keys())\n",
    "\n",
    "df = df[df['collection'].isin(dpb_elig)]"
   ]
  },
  {
   "cell_type": "code",
   "execution_count": 14,
   "metadata": {},
   "outputs": [],
   "source": [
    "# Remove nan\n",
    "\n",
    "df = df.where((pd.notnull(df)), None)"
   ]
  },
  {
   "cell_type": "code",
   "execution_count": 15,
   "metadata": {},
   "outputs": [],
   "source": [
    "# Drop dupes\n",
    "\n",
    "df.drop_duplicates(keep='first', inplace=True)"
   ]
  },
  {
   "cell_type": "code",
   "execution_count": 16,
   "metadata": {},
   "outputs": [],
   "source": [
    "# Dump json-like object as pickle to data folder\n",
    "# e.g.\n",
    "\n",
    "# [\n",
    "#     {\n",
    "#         'bsn': '002057948',\n",
    "#         'author': 'Newberry, Percy E. (Percy Edward), 1869-1949.',\n",
    "#         'title': 'El Bersheh / ',\n",
    "#         'imprint': 'London ; Boston : Egypt Exploration Fund, [1893-1894?]',\n",
    "#         'collection': 'May',\n",
    "#         'featured': 1,\n",
    "#     }, ...\n",
    "# ]\n",
    "\n",
    "dbp_data = list(df.T.to_dict().values())\n",
    "pickle.dump( dbp_data, open('../app/static/data/dbp_data.p', 'wb'))"
   ]
  },
  {
   "cell_type": "code",
   "execution_count": 17,
   "metadata": {},
   "outputs": [
    {
     "name": "stdout",
     "output_type": "stream",
     "text": [
      "Conversion complete!\n"
     ]
    }
   ],
   "source": [
    "print(\"Conversion complete!\")"
   ]
  },
  {
   "cell_type": "code",
   "execution_count": 18,
   "metadata": {},
   "outputs": [],
   "source": [
    "%notebook -e convert_shelflist_to_json.ipynb"
   ]
  },
  {
   "cell_type": "code",
   "execution_count": 19,
   "metadata": {},
   "outputs": [
    {
     "name": "stderr",
     "output_type": "stream",
     "text": [
      "[NbConvertApp] Converting notebook convert_shelflist_to_json.ipynb to script\n",
      "[NbConvertApp] Writing 2839 bytes to convert_shelflist_to_json.txt\n"
     ]
    }
   ],
   "source": [
    "%%bash\n",
    "jupyter nbconvert --to script convert_shelflist_to_json.ipynb\n",
    "mv convert_shelflist_to_json.txt convert_shelflist_to_json.py"
   ]
  }
 ],
 "metadata": {
  "kernelspec": {
   "display_name": "Python 3",
   "language": "python",
   "name": "python3"
  },
  "language_info": {
   "codemirror_mode": {
    "name": "ipython",
    "version": 3
   },
   "file_extension": ".py",
   "mimetype": "text/x-python",
   "name": "python",
   "nbconvert_exporter": "python",
   "pygments_lexer": "ipython3",
   "version": "3.7.0"
  }
 },
 "nbformat": 4,
 "nbformat_minor": 2
}
