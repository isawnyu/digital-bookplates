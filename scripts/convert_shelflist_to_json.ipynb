{
 "cells": [
  {
   "cell_type": "code",
   "execution_count": 1,
   "metadata": {},
   "outputs": [],
   "source": [
    "# Imports\n",
    "\n",
    "import pandas\n",
    "\n",
    "from collections import Counter\n",
    "from pprint import pprint\n",
    "\n",
    "import pickle"
   ]
  },
  {
   "cell_type": "code",
   "execution_count": 2,
   "metadata": {},
   "outputs": [],
   "source": [
    "# Pandas expects this file to be encoded as UTF-8 (and possibily to have Unix (LF)-style line breaks. Open csv in Textwrangler vel sim and change this is read_csv generates an error.\n",
    "\n",
    "df = pandas.read_csv('../data/shelflist.csv')"
   ]
  },
  {
   "cell_type": "code",
   "execution_count": 3,
   "metadata": {},
   "outputs": [],
   "source": [
    "# Keep only needed columns\n",
    "\n",
    "df = df[['BSN','Z13_AUTHOR', 'Z13_TITLE', 'Z13_IMPRINT', 'Z30_NOTE_INTERNAL']]"
   ]
  },
  {
   "cell_type": "code",
   "execution_count": 4,
   "metadata": {},
   "outputs": [],
   "source": [
    "# Add column for 'featured' titles\n",
    "\n",
    "df['featured'] = df.apply(lambda x: 0, axis=1)"
   ]
  },
  {
   "cell_type": "code",
   "execution_count": 5,
   "metadata": {},
   "outputs": [],
   "source": [
    "# Rename columns\n",
    "\n",
    "df = df.rename(columns={'BSN': 'bsn', \n",
    "                        'Z13_AUTHOR': 'author', \n",
    "                        'Z13_TITLE': 'title', \n",
    "                        'Z13_IMPRINT': 'imprint', \n",
    "                        'Z30_NOTE_INTERNAL': 'collection'\n",
    "                       }\n",
    "              )"
   ]
  },
  {
   "cell_type": "code",
   "execution_count": 6,
   "metadata": {},
   "outputs": [],
   "source": [
    "# Drop rows without collection info\n",
    "\n",
    "df = df.dropna(subset=['collection'])"
   ]
  },
  {
   "cell_type": "code",
   "execution_count": 7,
   "metadata": {},
   "outputs": [],
   "source": [
    "# Helper function to normalize collection data\n",
    "\n",
    "def clean_collection(string):\n",
    "    cleaned = string\n",
    "    \n",
    "    # Remove punctuation with translate\n",
    "    punctuation =\"\\\"#$%&\\'()+,-/:;<=>@[\\]^_`{|}~.?!«»—\"\n",
    "    translator = str.maketrans({key: \" \" for key in punctuation})\n",
    "    cleaned = cleaned.translate(translator)\n",
    "    \n",
    "    cleaned = cleaned.replace('Collection', '')\n",
    "    \n",
    "    return cleaned.strip()"
   ]
  },
  {
   "cell_type": "code",
   "execution_count": 8,
   "metadata": {},
   "outputs": [],
   "source": [
    "# Clean collection column\n",
    "\n",
    "df['collection'] = df['collection'].apply(lambda x: clean_collection(x))"
   ]
  },
  {
   "cell_type": "code",
   "execution_count": 9,
   "metadata": {},
   "outputs": [],
   "source": [
    "# Get eligible DBP collections\n",
    "\n",
    "min_threshold = 100\n",
    "excluded_categories = ['Mesopotamian', 'Bobst transfer']\n",
    "\n",
    "dbp_elig = Counter(df['collection'])\n",
    "dbp_elig = {x : dbp_elig[x] for x in dbp_elig if dbp_elig[x] >= min_threshold and x not in excluded_categories}\n",
    "dpb_elig = list(dbp_elig.keys())\n",
    "\n",
    "df = df[df['collection'].isin(dpb_elig)]"
   ]
  },
  {
   "cell_type": "code",
   "execution_count": 10,
   "metadata": {},
   "outputs": [],
   "source": [
    "# Dump json-like object as pickle to data folder\n",
    "# e.g.\n",
    "\n",
    "# [\n",
    "#     {\n",
    "#         'bsn': '002057948',\n",
    "#         'author': 'Newberry, Percy E. (Percy Edward), 1869-1949.',\n",
    "#         'title': 'El Bersheh / ',\n",
    "#         'imprint': 'London ; Boston : Egypt Exploration Fund, [1893-1894?]',\n",
    "#         'collection': 'May',\n",
    "#         'featured': 1,\n",
    "#     }, ...\n",
    "# ]\n",
    "\n",
    "dbp_data = list(df.T.to_dict().values())\n",
    "pickle.dump( dbp_data, open('../data/dbp_data.p', 'wb'))"
   ]
  }
 ],
 "metadata": {
  "kernelspec": {
   "display_name": "Python 3",
   "language": "python",
   "name": "python3"
  },
  "language_info": {
   "codemirror_mode": {
    "name": "ipython",
    "version": 3
   },
   "file_extension": ".py",
   "mimetype": "text/x-python",
   "name": "python",
   "nbconvert_exporter": "python",
   "pygments_lexer": "ipython3",
   "version": "3.7.0"
  }
 },
 "nbformat": 4,
 "nbformat_minor": 2
}
